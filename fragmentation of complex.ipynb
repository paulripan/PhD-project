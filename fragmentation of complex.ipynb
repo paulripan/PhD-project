{
 "cells": [
  {
   "cell_type": "code",
   "execution_count": 7,
   "id": "cfbfb2c4",
   "metadata": {},
   "outputs": [
    {
     "ename": "IndexError",
     "evalue": "list index out of range",
     "output_type": "error",
     "traceback": [
      "\u001b[1;31m---------------------------------------------------------------------------\u001b[0m",
      "\u001b[1;31mIndexError\u001b[0m                                Traceback (most recent call last)",
      "Cell \u001b[1;32mIn[7], line 7\u001b[0m\n\u001b[0;32m      4\u001b[0m \u001b[38;5;28;01mfrom\u001b[39;00m \u001b[38;5;21;01mpymatgen\u001b[39;00m\u001b[38;5;21;01m.\u001b[39;00m\u001b[38;5;21;01mcore\u001b[39;00m\u001b[38;5;21;01m.\u001b[39;00m\u001b[38;5;21;01mstructure\u001b[39;00m \u001b[38;5;28;01mimport\u001b[39;00m Molecule\n\u001b[0;32m      6\u001b[0m \u001b[38;5;66;03m# Load the complex from an XYZ file (replace the path with your file)\u001b[39;00m\n\u001b[1;32m----> 7\u001b[0m complex_molecule \u001b[38;5;241m=\u001b[39m Molecule\u001b[38;5;241m.\u001b[39mfrom_file(\u001b[38;5;124m'\u001b[39m\u001b[38;5;124mC:\u001b[39m\u001b[38;5;130;01m\\\\\u001b[39;00m\u001b[38;5;124mUsers\u001b[39m\u001b[38;5;130;01m\\\\\u001b[39;00m\u001b[38;5;124muser\u001b[39m\u001b[38;5;130;01m\\\\\u001b[39;00m\u001b[38;5;124mDesktop\u001b[39m\u001b[38;5;130;01m\\\\\u001b[39;00m\u001b[38;5;124mPhD\u001b[39m\u001b[38;5;130;01m\\\\\u001b[39;00m\u001b[38;5;124mcif files\u001b[39m\u001b[38;5;130;01m\\\\\u001b[39;00m\u001b[38;5;124mFEPP_cart_coord\u001b[39m\u001b[38;5;130;01m\\\\\u001b[39;00m\u001b[38;5;124mAYICIX.xyz\u001b[39m\u001b[38;5;124m'\u001b[39m)\n\u001b[0;32m     10\u001b[0m \u001b[38;5;66;03m# Identify the metal atom(s) based on a common identifier (e.g., 'METAL')\u001b[39;00m\n\u001b[0;32m     11\u001b[0m metal_atoms \u001b[38;5;241m=\u001b[39m [site \u001b[38;5;28;01mfor\u001b[39;00m site \u001b[38;5;129;01min\u001b[39;00m complex_structure \u001b[38;5;28;01mif\u001b[39;00m site\u001b[38;5;241m.\u001b[39mspecie\u001b[38;5;241m.\u001b[39msymbol \u001b[38;5;241m==\u001b[39m \u001b[38;5;124m'\u001b[39m\u001b[38;5;124mMETAL\u001b[39m\u001b[38;5;124m'\u001b[39m]\n",
      "File \u001b[1;32m~\\anaconda3\\Lib\\site-packages\\pymatgen\\core\\structure.py:3522\u001b[0m, in \u001b[0;36mIMolecule.from_file\u001b[1;34m(cls, filename)\u001b[0m\n\u001b[0;32m   3520\u001b[0m fname \u001b[38;5;241m=\u001b[39m filename\u001b[38;5;241m.\u001b[39mlower()\n\u001b[0;32m   3521\u001b[0m \u001b[38;5;28;01mif\u001b[39;00m fnmatch(fname, \u001b[38;5;124m\"\u001b[39m\u001b[38;5;124m*.xyz*\u001b[39m\u001b[38;5;124m\"\u001b[39m):\n\u001b[1;32m-> 3522\u001b[0m     \u001b[38;5;28;01mreturn\u001b[39;00m \u001b[38;5;28mcls\u001b[39m\u001b[38;5;241m.\u001b[39mfrom_str(contents, fmt\u001b[38;5;241m=\u001b[39m\u001b[38;5;124m\"\u001b[39m\u001b[38;5;124mxyz\u001b[39m\u001b[38;5;124m\"\u001b[39m)\n\u001b[0;32m   3523\u001b[0m \u001b[38;5;28;01mif\u001b[39;00m \u001b[38;5;28many\u001b[39m(fnmatch(fname\u001b[38;5;241m.\u001b[39mlower(), \u001b[38;5;124mf\u001b[39m\u001b[38;5;124m\"\u001b[39m\u001b[38;5;124m*.\u001b[39m\u001b[38;5;132;01m{\u001b[39;00mr\u001b[38;5;132;01m}\u001b[39;00m\u001b[38;5;124m*\u001b[39m\u001b[38;5;124m\"\u001b[39m) \u001b[38;5;28;01mfor\u001b[39;00m r \u001b[38;5;129;01min\u001b[39;00m [\u001b[38;5;124m\"\u001b[39m\u001b[38;5;124mgjf\u001b[39m\u001b[38;5;124m\"\u001b[39m, \u001b[38;5;124m\"\u001b[39m\u001b[38;5;124mg03\u001b[39m\u001b[38;5;124m\"\u001b[39m, \u001b[38;5;124m\"\u001b[39m\u001b[38;5;124mg09\u001b[39m\u001b[38;5;124m\"\u001b[39m, \u001b[38;5;124m\"\u001b[39m\u001b[38;5;124mcom\u001b[39m\u001b[38;5;124m\"\u001b[39m, \u001b[38;5;124m\"\u001b[39m\u001b[38;5;124minp\u001b[39m\u001b[38;5;124m\"\u001b[39m]):\n\u001b[0;32m   3524\u001b[0m     \u001b[38;5;28;01mreturn\u001b[39;00m \u001b[38;5;28mcls\u001b[39m\u001b[38;5;241m.\u001b[39mfrom_str(contents, fmt\u001b[38;5;241m=\u001b[39m\u001b[38;5;124m\"\u001b[39m\u001b[38;5;124mg09\u001b[39m\u001b[38;5;124m\"\u001b[39m)\n",
      "File \u001b[1;32m~\\anaconda3\\Lib\\site-packages\\pymatgen\\core\\structure.py:3485\u001b[0m, in \u001b[0;36mIMolecule.from_str\u001b[1;34m(cls, input_string, fmt)\u001b[0m\n\u001b[0;32m   3483\u001b[0m fmt \u001b[38;5;241m=\u001b[39m fmt\u001b[38;5;241m.\u001b[39mlower()  \u001b[38;5;66;03m# type: ignore[assignment]\u001b[39;00m\n\u001b[0;32m   3484\u001b[0m \u001b[38;5;28;01mif\u001b[39;00m fmt \u001b[38;5;241m==\u001b[39m \u001b[38;5;124m\"\u001b[39m\u001b[38;5;124mxyz\u001b[39m\u001b[38;5;124m\"\u001b[39m:\n\u001b[1;32m-> 3485\u001b[0m     mol \u001b[38;5;241m=\u001b[39m XYZ\u001b[38;5;241m.\u001b[39mfrom_str(input_string)\u001b[38;5;241m.\u001b[39mmolecule\n\u001b[0;32m   3486\u001b[0m \u001b[38;5;28;01melif\u001b[39;00m fmt \u001b[38;5;129;01min\u001b[39;00m [\u001b[38;5;124m\"\u001b[39m\u001b[38;5;124mgjf\u001b[39m\u001b[38;5;124m\"\u001b[39m, \u001b[38;5;124m\"\u001b[39m\u001b[38;5;124mg03\u001b[39m\u001b[38;5;124m\"\u001b[39m, \u001b[38;5;124m\"\u001b[39m\u001b[38;5;124mg09\u001b[39m\u001b[38;5;124m\"\u001b[39m, \u001b[38;5;124m\"\u001b[39m\u001b[38;5;124mcom\u001b[39m\u001b[38;5;124m\"\u001b[39m, \u001b[38;5;124m\"\u001b[39m\u001b[38;5;124minp\u001b[39m\u001b[38;5;124m\"\u001b[39m]:\n\u001b[0;32m   3487\u001b[0m     mol \u001b[38;5;241m=\u001b[39m GaussianInput\u001b[38;5;241m.\u001b[39mfrom_str(input_string)\u001b[38;5;241m.\u001b[39mmolecule\n",
      "File \u001b[1;32m~\\anaconda3\\Lib\\site-packages\\pymatgen\\io\\xyz.py:47\u001b[0m, in \u001b[0;36mXYZ.molecule\u001b[1;34m(self)\u001b[0m\n\u001b[0;32m     41\u001b[0m \u001b[38;5;129m@property\u001b[39m\n\u001b[0;32m     42\u001b[0m \u001b[38;5;28;01mdef\u001b[39;00m \u001b[38;5;21mmolecule\u001b[39m(\u001b[38;5;28mself\u001b[39m) \u001b[38;5;241m-\u001b[39m\u001b[38;5;241m>\u001b[39m Molecule:\n\u001b[0;32m     43\u001b[0m \u001b[38;5;250m    \u001b[39m\u001b[38;5;124;03m\"\"\"\u001b[39;00m\n\u001b[0;32m     44\u001b[0m \u001b[38;5;124;03m    Returns molecule associated with this XYZ. In case of multi-frame\u001b[39;00m\n\u001b[0;32m     45\u001b[0m \u001b[38;5;124;03m    XYZ, returns the last frame.\u001b[39;00m\n\u001b[0;32m     46\u001b[0m \u001b[38;5;124;03m    \"\"\"\u001b[39;00m\n\u001b[1;32m---> 47\u001b[0m     \u001b[38;5;28;01mreturn\u001b[39;00m \u001b[38;5;28mself\u001b[39m\u001b[38;5;241m.\u001b[39m_mols[\u001b[38;5;241m-\u001b[39m\u001b[38;5;241m1\u001b[39m]\n",
      "\u001b[1;31mIndexError\u001b[0m: list index out of range"
     ]
    }
   ],
   "source": [
    "from pymatgen.io.xyz import XYZ\n",
    "from pymatgen.core.structure import Structure\n",
    "\n",
    "from pymatgen.core.structure import Molecule\n",
    "\n",
    "# Load the complex from an XYZ file (replace the path with your file)\n",
    "complex_molecule = Molecule.from_file('C:\\\\Users\\\\user\\\\Desktop\\\\PhD\\\\cif files\\\\FEPP_cart_coord\\\\AYICIX.xyz')\n",
    "\n",
    "\n",
    "# Identify the metal atom(s) based on a common identifier (e.g., 'METAL')\n",
    "metal_atoms = [site for site in complex_structure if site.specie.symbol == 'METAL']\n",
    "\n",
    "# Create a structure containing only the metal atoms\n",
    "metal_structure = Structure.from_sites(metal_atoms)\n",
    "\n",
    "# Create a structure containing the ligand atoms\n",
    "ligand_structure = complex_structure.copy()\n",
    "ligand_structure.remove_sites(metal_atoms)\n",
    "\n",
    "# Save the metal and ligand structures (replace 'metal.xyz' and 'ligand.xyz' with desired filenames)\n",
    "metal_structure.to('xyz', 'metal.xyz')\n",
    "ligand_structure.to('xyz', 'ligand.xyz')\n"
   ]
  },
  {
   "cell_type": "code",
   "execution_count": null,
   "id": "7894e7df",
   "metadata": {},
   "outputs": [],
   "source": []
  },
  {
   "cell_type": "code",
   "execution_count": null,
   "id": "2aed4ad7",
   "metadata": {},
   "outputs": [],
   "source": []
  }
 ],
 "metadata": {
  "kernelspec": {
   "display_name": "Python 3 (ipykernel)",
   "language": "python",
   "name": "python3"
  },
  "language_info": {
   "codemirror_mode": {
    "name": "ipython",
    "version": 3
   },
   "file_extension": ".py",
   "mimetype": "text/x-python",
   "name": "python",
   "nbconvert_exporter": "python",
   "pygments_lexer": "ipython3",
   "version": "3.11.4"
  }
 },
 "nbformat": 4,
 "nbformat_minor": 5
}
